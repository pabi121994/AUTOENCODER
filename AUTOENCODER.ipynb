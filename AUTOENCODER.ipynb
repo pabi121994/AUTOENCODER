{
 "cells": [
  {
   "cell_type": "code",
   "execution_count": 5,
   "metadata": {},
   "outputs": [
    {
     "name": "stderr",
     "output_type": "stream",
     "text": [
      "Using TensorFlow backend.\n"
     ]
    }
   ],
   "source": [
    "from keras.layers import Input, Dense\n",
    "from keras.models import Model"
   ]
  },
  {
   "cell_type": "code",
   "execution_count": 7,
   "metadata": {},
   "outputs": [
    {
     "data": {
      "text/plain": [
       "<tf.Tensor 'input_2:0' shape=(?, 784) dtype=float32>"
      ]
     },
     "execution_count": 7,
     "metadata": {},
     "output_type": "execute_result"
    }
   ],
   "source": [
    "# this is the size of our encoded representations\n",
    "encoding_dim = 32  # 32 floats -> compression of factor 24.5, assuming the input is 784 floats\n",
    "\n",
    "# this is our input placeholder\n",
    "input_img = Input(shape=(784,))\n",
    "input_img"
   ]
  },
  {
   "cell_type": "code",
   "execution_count": 8,
   "metadata": {},
   "outputs": [
    {
     "name": "stdout",
     "output_type": "stream",
     "text": [
      "Downloading data from https://s3.amazonaws.com/img-datasets/mnist.npz\n",
      "11493376/11490434 [==============================] - 229s 20us/step\n"
     ]
    }
   ],
   "source": [
    "from keras.datasets import mnist\n",
    "import numpy as np\n",
    "(x_train, _), (x_test, _) = mnist.load_data()"
   ]
  },
  {
   "cell_type": "code",
   "execution_count": 9,
   "metadata": {},
   "outputs": [
    {
     "name": "stdout",
     "output_type": "stream",
     "text": [
      "(60000, 784)\n",
      "(10000, 784)\n"
     ]
    }
   ],
   "source": [
    "x_train = x_train.astype('float32') / 255.\n",
    "x_test = x_test.astype('float32') / 255.\n",
    "x_train = x_train.reshape((len(x_train), np.prod(x_train.shape[1:])))\n",
    "x_test = x_test.reshape((len(x_test), np.prod(x_test.shape[1:])))\n",
    "print(x_train.shape)\n",
    "print(x_test.shape)"
   ]
  },
  {
   "cell_type": "code",
   "execution_count": 10,
   "metadata": {},
   "outputs": [
    {
     "name": "stdout",
     "output_type": "stream",
     "text": [
      "WARNING:tensorflow:From C:\\Users\\PABITRA\\Anaconda3\\lib\\site-packages\\tensorflow\\python\\framework\\op_def_library.py:263: colocate_with (from tensorflow.python.framework.ops) is deprecated and will be removed in a future version.\n",
      "Instructions for updating:\n",
      "Colocations handled automatically by placer.\n"
     ]
    }
   ],
   "source": [
    "\n",
    "encoded = Dense(128, activation='relu')(input_img)\n",
    "encoded = Dense(64, activation='relu')(encoded)\n",
    "encoded = Dense(32, activation='relu')(encoded)\n",
    "\n",
    "decoded = Dense(64, activation='relu')(encoded)\n",
    "decoded = Dense(128, activation='relu')(decoded)\n",
    "decoded = Dense(784, activation='sigmoid')(decoded)"
   ]
  },
  {
   "cell_type": "code",
   "execution_count": 11,
   "metadata": {},
   "outputs": [
    {
     "name": "stdout",
     "output_type": "stream",
     "text": [
      "WARNING:tensorflow:From C:\\Users\\PABITRA\\Anaconda3\\lib\\site-packages\\tensorflow\\python\\ops\\math_ops.py:3066: to_int32 (from tensorflow.python.ops.math_ops) is deprecated and will be removed in a future version.\n",
      "Instructions for updating:\n",
      "Use tf.cast instead.\n",
      "Train on 60000 samples, validate on 10000 samples\n",
      "Epoch 1/100\n",
      "60000/60000 [==============================] - 3s 52us/step - loss: 0.3444 - val_loss: 0.2641\n",
      "Epoch 2/100\n",
      "60000/60000 [==============================] - 3s 43us/step - loss: 0.2586 - val_loss: 0.2541\n",
      "Epoch 3/100\n",
      "60000/60000 [==============================] - 2s 41us/step - loss: 0.2461 - val_loss: 0.2386\n",
      "Epoch 4/100\n",
      "60000/60000 [==============================] - 2s 41us/step - loss: 0.2299 - val_loss: 0.2204\n",
      "Epoch 5/100\n",
      "60000/60000 [==============================] - 2s 41us/step - loss: 0.2134 - val_loss: 0.2067\n",
      "Epoch 6/100\n",
      "60000/60000 [==============================] - 3s 47us/step - loss: 0.1979 - val_loss: 0.1894\n",
      "Epoch 7/100\n",
      "60000/60000 [==============================] - 2s 42us/step - loss: 0.1879 - val_loss: 0.1843\n",
      "Epoch 8/100\n",
      "60000/60000 [==============================] - 3s 43us/step - loss: 0.1819 - val_loss: 0.1781\n",
      "Epoch 9/100\n",
      "60000/60000 [==============================] - 2s 40us/step - loss: 0.1754 - val_loss: 0.1691ETA: 0s - \n",
      "Epoch 10/100\n",
      "60000/60000 [==============================] - 2s 40us/step - loss: 0.1686 - val_loss: 0.1651\n",
      "Epoch 11/100\n",
      "60000/60000 [==============================] - 2s 40us/step - loss: 0.1629 - val_loss: 0.1589\n",
      "Epoch 12/100\n",
      "60000/60000 [==============================] - 2s 41us/step - loss: 0.1587 - val_loss: 0.1561\n",
      "Epoch 13/100\n",
      "60000/60000 [==============================] - 2s 41us/step - loss: 0.1551 - val_loss: 0.1537\n",
      "Epoch 14/100\n",
      "60000/60000 [==============================] - 2s 41us/step - loss: 0.1520 - val_loss: 0.1496\n",
      "Epoch 15/100\n",
      "60000/60000 [==============================] - 2s 40us/step - loss: 0.1491 - val_loss: 0.1465\n",
      "Epoch 16/100\n",
      "60000/60000 [==============================] - 2s 40us/step - loss: 0.1466 - val_loss: 0.1438\n",
      "Epoch 17/100\n",
      "60000/60000 [==============================] - 2s 40us/step - loss: 0.1441 - val_loss: 0.1421\n",
      "Epoch 18/100\n",
      "60000/60000 [==============================] - 2s 41us/step - loss: 0.1421 - val_loss: 0.1398\n",
      "Epoch 19/100\n",
      "60000/60000 [==============================] - 2s 41us/step - loss: 0.1401 - val_loss: 0.1382\n",
      "Epoch 20/100\n",
      "60000/60000 [==============================] - 2s 40us/step - loss: 0.1383 - val_loss: 0.1355\n",
      "Epoch 21/100\n",
      "60000/60000 [==============================] - 2s 40us/step - loss: 0.1366 - val_loss: 0.1340\n",
      "Epoch 22/100\n",
      "60000/60000 [==============================] - 2s 40us/step - loss: 0.1351 - val_loss: 0.1341\n",
      "Epoch 23/100\n",
      "60000/60000 [==============================] - 2s 40us/step - loss: 0.1336 - val_loss: 0.1334\n",
      "Epoch 24/100\n",
      "60000/60000 [==============================] - 2s 40us/step - loss: 0.1323 - val_loss: 0.1305\n",
      "Epoch 25/100\n",
      "60000/60000 [==============================] - 2s 40us/step - loss: 0.1307 - val_loss: 0.1293\n",
      "Epoch 26/100\n",
      "60000/60000 [==============================] - 2s 40us/step - loss: 0.1294 - val_loss: 0.1274\n",
      "Epoch 27/100\n",
      "60000/60000 [==============================] - 3s 42us/step - loss: 0.1282 - val_loss: 0.1268\n",
      "Epoch 28/100\n",
      "60000/60000 [==============================] - 2s 41us/step - loss: 0.1271 - val_loss: 0.1243\n",
      "Epoch 29/100\n",
      "60000/60000 [==============================] - 2s 41us/step - loss: 0.1261 - val_loss: 0.1245\n",
      "Epoch 30/100\n",
      "60000/60000 [==============================] - 2s 40us/step - loss: 0.1251 - val_loss: 0.1225\n",
      "Epoch 31/100\n",
      "60000/60000 [==============================] - 2s 40us/step - loss: 0.1240 - val_loss: 0.1212\n",
      "Epoch 32/100\n",
      "60000/60000 [==============================] - 2s 40us/step - loss: 0.1231 - val_loss: 0.1225\n",
      "Epoch 33/100\n",
      "60000/60000 [==============================] - 2s 40us/step - loss: 0.1220 - val_loss: 0.1197\n",
      "Epoch 34/100\n",
      "60000/60000 [==============================] - 2s 42us/step - loss: 0.1212 - val_loss: 0.1189\n",
      "Epoch 35/100\n",
      "60000/60000 [==============================] - 2s 41us/step - loss: 0.1203 - val_loss: 0.1197\n",
      "Epoch 36/100\n",
      "60000/60000 [==============================] - 2s 40us/step - loss: 0.1195 - val_loss: 0.1167\n",
      "Epoch 37/100\n",
      "60000/60000 [==============================] - 3s 42us/step - loss: 0.1189 - val_loss: 0.1169\n",
      "Epoch 38/100\n",
      "60000/60000 [==============================] - 2s 40us/step - loss: 0.1181 - val_loss: 0.1208\n",
      "Epoch 39/100\n",
      "60000/60000 [==============================] - 2s 40us/step - loss: 0.1174 - val_loss: 0.1181\n",
      "Epoch 40/100\n",
      "60000/60000 [==============================] - 2s 40us/step - loss: 0.1168 - val_loss: 0.1144\n",
      "Epoch 41/100\n",
      "60000/60000 [==============================] - 2s 41us/step - loss: 0.1161 - val_loss: 0.1139\n",
      "Epoch 42/100\n",
      "60000/60000 [==============================] - 3s 43us/step - loss: 0.1156 - val_loss: 0.1164\n",
      "Epoch 43/100\n",
      "60000/60000 [==============================] - 3s 42us/step - loss: 0.1150 - val_loss: 0.1156\n",
      "Epoch 44/100\n",
      "60000/60000 [==============================] - 2s 41us/step - loss: 0.1145 - val_loss: 0.1135\n",
      "Epoch 45/100\n",
      "60000/60000 [==============================] - 2s 41us/step - loss: 0.1141 - val_loss: 0.1124\n",
      "Epoch 46/100\n",
      "60000/60000 [==============================] - 2s 41us/step - loss: 0.1135 - val_loss: 0.1108\n",
      "Epoch 47/100\n",
      "60000/60000 [==============================] - 2s 41us/step - loss: 0.1129 - val_loss: 0.1107\n",
      "Epoch 48/100\n",
      "60000/60000 [==============================] - 2s 42us/step - loss: 0.1126 - val_loss: 0.1100\n",
      "Epoch 49/100\n",
      "60000/60000 [==============================] - 2s 40us/step - loss: 0.1122 - val_loss: 0.1097\n",
      "Epoch 50/100\n",
      "60000/60000 [==============================] - 2s 41us/step - loss: 0.1117 - val_loss: 0.1095\n",
      "Epoch 51/100\n",
      "60000/60000 [==============================] - 3s 44us/step - loss: 0.1113 - val_loss: 0.1115\n",
      "Epoch 52/100\n",
      "60000/60000 [==============================] - 2s 42us/step - loss: 0.1108 - val_loss: 0.1081\n",
      "Epoch 53/100\n",
      "60000/60000 [==============================] - 3s 42us/step - loss: 0.1104 - val_loss: 0.1087\n",
      "Epoch 54/100\n",
      "60000/60000 [==============================] - 3s 42us/step - loss: 0.1099 - val_loss: 0.1085\n",
      "Epoch 55/100\n",
      "60000/60000 [==============================] - 2s 41us/step - loss: 0.1097 - val_loss: 0.1081\n",
      "Epoch 56/100\n",
      "60000/60000 [==============================] - 2s 41us/step - loss: 0.1093 - val_loss: 0.1085\n",
      "Epoch 57/100\n",
      "60000/60000 [==============================] - 2s 41us/step - loss: 0.1088 - val_loss: 0.1062\n",
      "Epoch 58/100\n",
      "60000/60000 [==============================] - 2s 41us/step - loss: 0.1084 - val_loss: 0.1072\n",
      "Epoch 59/100\n",
      "60000/60000 [==============================] - 2s 41us/step - loss: 0.1081 - val_loss: 0.1061\n",
      "Epoch 60/100\n",
      "60000/60000 [==============================] - 2s 41us/step - loss: 0.1077 - val_loss: 0.1076\n",
      "Epoch 61/100\n",
      "60000/60000 [==============================] - 2s 41us/step - loss: 0.1074 - val_loss: 0.1068\n",
      "Epoch 62/100\n",
      "60000/60000 [==============================] - 2s 41us/step - loss: 0.1071 - val_loss: 0.1070\n",
      "Epoch 63/100\n",
      "60000/60000 [==============================] - 2s 41us/step - loss: 0.1067 - val_loss: 0.1049\n",
      "Epoch 64/100\n",
      "60000/60000 [==============================] - 2s 41us/step - loss: 0.1065 - val_loss: 0.1052\n",
      "Epoch 65/100\n",
      "60000/60000 [==============================] - 2s 41us/step - loss: 0.1061 - val_loss: 0.1049\n",
      "Epoch 66/100\n",
      "60000/60000 [==============================] - 2s 41us/step - loss: 0.1059 - val_loss: 0.1038\n",
      "Epoch 67/100\n",
      "60000/60000 [==============================] - 2s 41us/step - loss: 0.1056 - val_loss: 0.1042\n",
      "Epoch 68/100\n",
      "60000/60000 [==============================] - 2s 41us/step - loss: 0.1052 - val_loss: 0.1036\n",
      "Epoch 69/100\n",
      "60000/60000 [==============================] - 2s 41us/step - loss: 0.1051 - val_loss: 0.1049\n",
      "Epoch 70/100\n",
      "60000/60000 [==============================] - 2s 41us/step - loss: 0.1046 - val_loss: 0.1036\n",
      "Epoch 71/100\n",
      "60000/60000 [==============================] - 2s 41us/step - loss: 0.1045 - val_loss: 0.1046\n",
      "Epoch 72/100\n",
      "60000/60000 [==============================] - 2s 41us/step - loss: 0.1042 - val_loss: 0.1036\n",
      "Epoch 73/100\n",
      "60000/60000 [==============================] - 2s 41us/step - loss: 0.1040 - val_loss: 0.1036\n",
      "Epoch 74/100\n"
     ]
    },
    {
     "name": "stdout",
     "output_type": "stream",
     "text": [
      "60000/60000 [==============================] - 2s 39us/step - loss: 0.1038 - val_loss: 0.1041\n",
      "Epoch 75/100\n",
      "60000/60000 [==============================] - 2s 39us/step - loss: 0.1034 - val_loss: 0.1030\n",
      "Epoch 76/100\n",
      "60000/60000 [==============================] - 2s 41us/step - loss: 0.1032 - val_loss: 0.1047\n",
      "Epoch 77/100\n",
      "60000/60000 [==============================] - 2s 40us/step - loss: 0.1029 - val_loss: 0.1011\n",
      "Epoch 78/100\n",
      "60000/60000 [==============================] - 2s 40us/step - loss: 0.1028 - val_loss: 0.1002\n",
      "Epoch 79/100\n",
      "60000/60000 [==============================] - 2s 40us/step - loss: 0.1025 - val_loss: 0.1016\n",
      "Epoch 80/100\n",
      "60000/60000 [==============================] - 2s 39us/step - loss: 0.1022 - val_loss: 0.1023\n",
      "Epoch 81/100\n",
      "60000/60000 [==============================] - 2s 39us/step - loss: 0.1020 - val_loss: 0.1006\n",
      "Epoch 82/100\n",
      "60000/60000 [==============================] - 2s 39us/step - loss: 0.1019 - val_loss: 0.1011\n",
      "Epoch 83/100\n",
      "60000/60000 [==============================] - 2s 40us/step - loss: 0.1016 - val_loss: 0.1018\n",
      "Epoch 84/100\n",
      "60000/60000 [==============================] - 2s 40us/step - loss: 0.1015 - val_loss: 0.1025\n",
      "Epoch 85/100\n",
      "60000/60000 [==============================] - 2s 39us/step - loss: 0.1012 - val_loss: 0.1003\n",
      "Epoch 86/100\n",
      "60000/60000 [==============================] - 2s 39us/step - loss: 0.1011 - val_loss: 0.1010\n",
      "Epoch 87/100\n",
      "60000/60000 [==============================] - 2s 39us/step - loss: 0.1008 - val_loss: 0.1015\n",
      "Epoch 88/100\n",
      "60000/60000 [==============================] - 2s 40us/step - loss: 0.1006 - val_loss: 0.0988\n",
      "Epoch 89/100\n",
      "60000/60000 [==============================] - 2s 39us/step - loss: 0.1005 - val_loss: 0.0992\n",
      "Epoch 90/100\n",
      "60000/60000 [==============================] - 2s 40us/step - loss: 0.1003 - val_loss: 0.1006\n",
      "Epoch 91/100\n",
      "60000/60000 [==============================] - 2s 39us/step - loss: 0.1002 - val_loss: 0.0990\n",
      "Epoch 92/100\n",
      "60000/60000 [==============================] - 2s 39us/step - loss: 0.0999 - val_loss: 0.0972\n",
      "Epoch 93/100\n",
      "60000/60000 [==============================] - 2s 39us/step - loss: 0.0998 - val_loss: 0.0994\n",
      "Epoch 94/100\n",
      "60000/60000 [==============================] - 2s 40us/step - loss: 0.0995 - val_loss: 0.0979\n",
      "Epoch 95/100\n",
      "60000/60000 [==============================] - 2s 40us/step - loss: 0.0995 - val_loss: 0.0987\n",
      "Epoch 96/100\n",
      "60000/60000 [==============================] - 2s 39us/step - loss: 0.0993 - val_loss: 0.0980\n",
      "Epoch 97/100\n",
      "60000/60000 [==============================] - 2s 39us/step - loss: 0.0991 - val_loss: 0.0988\n",
      "Epoch 98/100\n",
      "60000/60000 [==============================] - 2s 40us/step - loss: 0.0990 - val_loss: 0.0984\n",
      "Epoch 99/100\n",
      "60000/60000 [==============================] - 2s 38us/step - loss: 0.0988 - val_loss: 0.0973\n",
      "Epoch 100/100\n",
      "60000/60000 [==============================] - 2s 39us/step - loss: 0.0987 - val_loss: 0.0991\n"
     ]
    },
    {
     "data": {
      "text/plain": [
       "<keras.callbacks.History at 0x27cfee33b70>"
      ]
     },
     "execution_count": 11,
     "metadata": {},
     "output_type": "execute_result"
    }
   ],
   "source": [
    "autoencoder = Model(input_img, decoded)\n",
    "autoencoder.compile(optimizer='adadelta', loss='binary_crossentropy')\n",
    "\n",
    "autoencoder.fit(x_train, x_train,\n",
    "                epochs=100,\n",
    "                batch_size=256,\n",
    "                shuffle=True,\n",
    "                validation_data=(x_test, x_test))"
   ]
  },
  {
   "cell_type": "code",
   "execution_count": 12,
   "metadata": {},
   "outputs": [
    {
     "name": "stderr",
     "output_type": "stream",
     "text": [
      "C:\\Users\\PABITRA\\Anaconda3\\lib\\site-packages\\ipykernel_launcher.py:11: MatplotlibDeprecationWarning: Adding an axes using the same arguments as a previous axes currently reuses the earlier instance.  In a future version, a new instance will always be created and returned.  Meanwhile, this warning can be suppressed, and the future behavior ensured, by passing a unique label to each axes instance.\n",
      "  # This is added back by InteractiveShellApp.init_path()\n"
     ]
    },
    {
     "data": {
      "text/plain": [
       "<Figure size 2000x400 with 19 Axes>"
      ]
     },
     "metadata": {},
     "output_type": "display_data"
    }
   ],
   "source": [
    "import matplotlib.pyplot as plt\n",
    "\n",
    "\n",
    "\n",
    "decoded_imgs = autoencoder.predict(x_test)\n",
    "\n",
    "n = 10\n",
    "plt.figure(figsize=(20, 4))\n",
    "for i in range(n):\n",
    "    # display original\n",
    "    ax = plt.subplot(2, n, i+1)\n",
    "    plt.imshow(x_test[i].reshape(28, 28))\n",
    "    plt.gray()\n",
    "    ax.get_xaxis().set_visible(False)\n",
    "    ax.get_yaxis().set_visible(False)\n",
    "\n",
    "    # display reconstruction\n",
    "    ax = plt.subplot(2, n, i + n)\n",
    "    plt.imshow(decoded_imgs[i].reshape(28, 28))\n",
    "    plt.gray()\n",
    "    ax.get_xaxis().set_visible(False)\n",
    "    ax.get_yaxis().set_visible(False)\n",
    "plt.show()"
   ]
  },
  {
   "cell_type": "code",
   "execution_count": null,
   "metadata": {},
   "outputs": [],
   "source": []
  }
 ],
 "metadata": {
  "kernelspec": {
   "display_name": "Python 3",
   "language": "python",
   "name": "python3"
  },
  "language_info": {
   "codemirror_mode": {
    "name": "ipython",
    "version": 3
   },
   "file_extension": ".py",
   "mimetype": "text/x-python",
   "name": "python",
   "nbconvert_exporter": "python",
   "pygments_lexer": "ipython3",
   "version": "3.6.9"
  }
 },
 "nbformat": 4,
 "nbformat_minor": 2
}
